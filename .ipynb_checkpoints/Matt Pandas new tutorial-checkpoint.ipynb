{
 "cells": [
  {
   "cell_type": "markdown",
   "id": "2e802c9c",
   "metadata": {},
   "source": [
    "# Pandas tutorial "
   ]
  },
  {
   "cell_type": "markdown",
   "id": "e458dbee",
   "metadata": {},
   "source": [
    "https://www.youtube.com/watch?v=PcvsOaixUh8"
   ]
  },
  {
   "cell_type": "code",
   "execution_count": 1,
   "id": "88627eb5",
   "metadata": {},
   "outputs": [],
   "source": [
    "import numpy as np\n",
    "import pandas as pd\n",
    "import matplotlib.pyplot as plt\n",
    "%matplotlib inline\n",
    "import seaborn as sns"
   ]
  },
  {
   "cell_type": "code",
   "execution_count": 3,
   "id": "973bc25a",
   "metadata": {},
   "outputs": [
    {
     "data": {
      "text/plain": [
       "1    a\n",
       "2    b\n",
       "3    c\n",
       "4    d\n",
       "dtype: object"
      ]
     },
     "execution_count": 3,
     "metadata": {},
     "output_type": "execute_result"
    }
   ],
   "source": [
    "list_1 = [\"a\", \"b\", \"c\", \"d\"]\n",
    "\n",
    "labels = [1,2,3,4]\n",
    "\n",
    "series_1 = pd.Series(data = list_1, index = labels)\n",
    "\n",
    "series_1"
   ]
  },
  {
   "cell_type": "code",
   "execution_count": 8,
   "id": "c45c62f3",
   "metadata": {},
   "outputs": [
    {
     "data": {
      "text/plain": [
       "first_name    Matthew\n",
       "last_name         Cai\n",
       "age                33\n",
       "dtype: object"
      ]
     },
     "execution_count": 8,
     "metadata": {},
     "output_type": "execute_result"
    }
   ],
   "source": [
    "arr_1 = np.array([1,2,3,4])\n",
    "ser_2 = pd.Series(arr_1)\n",
    "\n",
    "dict_1 = {\"first_name\": \"Matthew\", \"last_name\": \"Cai\", \"age\": 33}\n",
    "ser_3 = pd.Series(dict_1)\n",
    "\n",
    "ser_3"
   ]
  },
  {
   "cell_type": "code",
   "execution_count": 11,
   "id": "6c3ede67",
   "metadata": {},
   "outputs": [
    {
     "data": {
      "text/plain": [
       "'Matthew'"
      ]
     },
     "execution_count": 11,
     "metadata": {},
     "output_type": "execute_result"
    }
   ],
   "source": [
    "ser_3[\"first_name\"]"
   ]
  },
  {
   "cell_type": "code",
   "execution_count": 12,
   "id": "aa76b37f",
   "metadata": {},
   "outputs": [
    {
     "data": {
      "text/plain": [
       "0     1\n",
       "1     4\n",
       "2     9\n",
       "3    16\n",
       "dtype: int32"
      ]
     },
     "execution_count": 12,
     "metadata": {},
     "output_type": "execute_result"
    }
   ],
   "source": [
    "ser_2 * ser_2 "
   ]
  },
  {
   "cell_type": "markdown",
   "id": "309bc2aa",
   "metadata": {},
   "source": [
    "# Creating Data Frames"
   ]
  },
  {
   "cell_type": "code",
   "execution_count": 14,
   "id": "2abce6b1",
   "metadata": {},
   "outputs": [
    {
     "data": {
      "text/plain": [
       "0    1.0\n",
       "1    3.0\n",
       "2    5.0\n",
       "3    NaN\n",
       "4    6.0\n",
       "5    8.0\n",
       "dtype: float64"
      ]
     },
     "execution_count": 14,
     "metadata": {},
     "output_type": "execute_result"
    }
   ],
   "source": [
    "s = pd.Series([1, 3, 5, np.nan, 6, 8])\n",
    "\n",
    "s"
   ]
  },
  {
   "cell_type": "code",
   "execution_count": null,
   "id": "ddb6b3b7",
   "metadata": {},
   "outputs": [],
   "source": []
  },
  {
   "cell_type": "code",
   "execution_count": null,
   "id": "4811674e",
   "metadata": {},
   "outputs": [],
   "source": []
  },
  {
   "cell_type": "code",
   "execution_count": null,
   "id": "deba1063",
   "metadata": {},
   "outputs": [],
   "source": []
  },
  {
   "cell_type": "code",
   "execution_count": null,
   "id": "d786a81c",
   "metadata": {},
   "outputs": [],
   "source": []
  },
  {
   "cell_type": "code",
   "execution_count": null,
   "id": "17b6d27a",
   "metadata": {},
   "outputs": [],
   "source": []
  }
 ],
 "metadata": {
  "kernelspec": {
   "display_name": "Python 3",
   "language": "python",
   "name": "python3"
  },
  "language_info": {
   "codemirror_mode": {
    "name": "ipython",
    "version": 3
   },
   "file_extension": ".py",
   "mimetype": "text/x-python",
   "name": "python",
   "nbconvert_exporter": "python",
   "pygments_lexer": "ipython3",
   "version": "3.8.8"
  }
 },
 "nbformat": 4,
 "nbformat_minor": 5
}
